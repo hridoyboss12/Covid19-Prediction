{
 "cells": [
  {
   "cell_type": "code",
   "execution_count": 1,
   "id": "involved-england",
   "metadata": {},
   "outputs": [],
   "source": [
    "import pandas as pd\n",
    "import numpy as np"
   ]
  },
  {
   "cell_type": "code",
   "execution_count": 2,
   "id": "automotive-burke",
   "metadata": {},
   "outputs": [],
   "source": [
    "url = \"https://covid.ourworldindata.org/data/owid-covid-data.csv\""
   ]
  },
  {
   "cell_type": "code",
   "execution_count": null,
   "id": "expected-commissioner",
   "metadata": {},
   "outputs": [],
   "source": [
    "db = pd.read_csv(url)"
   ]
  },
  {
   "cell_type": "code",
   "execution_count": null,
   "id": "radical-shower",
   "metadata": {},
   "outputs": [],
   "source": [
    "db.head()"
   ]
  },
  {
   "cell_type": "code",
   "execution_count": null,
   "id": "entertaining-virginia",
   "metadata": {},
   "outputs": [],
   "source": [
    "world = db[db[\"location\"] == \"World\"]"
   ]
  },
  {
   "cell_type": "code",
   "execution_count": null,
   "id": "monetary-council",
   "metadata": {},
   "outputs": [],
   "source": [
    "world.head()"
   ]
  },
  {
   "cell_type": "code",
   "execution_count": null,
   "id": "crude-planning",
   "metadata": {},
   "outputs": [],
   "source": [
    "world_total = world[[\"date\", \"total_cases\"]]"
   ]
  },
  {
   "cell_type": "code",
   "execution_count": null,
   "id": "adapted-machine",
   "metadata": {},
   "outputs": [],
   "source": [
    "world_total = pd.DataFrame(world_total)"
   ]
  },
  {
   "cell_type": "code",
   "execution_count": null,
   "id": "express-disabled",
   "metadata": {},
   "outputs": [],
   "source": [
    "world_total"
   ]
  }
 ],
 "metadata": {
  "kernelspec": {
   "display_name": "Python 3",
   "language": "python",
   "name": "python3"
  },
  "language_info": {
   "codemirror_mode": {
    "name": "ipython",
    "version": 3
   },
   "file_extension": ".py",
   "mimetype": "text/x-python",
   "name": "python",
   "nbconvert_exporter": "python",
   "pygments_lexer": "ipython3",
   "version": "3.9.2"
  }
 },
 "nbformat": 4,
 "nbformat_minor": 5
}
